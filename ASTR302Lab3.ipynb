{
 "cells": [
  {
   "cell_type": "markdown",
   "metadata": {
    "tags": []
   },
   "source": [
    "# ASTR302 Lab 3: The Basics of Starting an Observational Program"
   ]
  },
  {
   "cell_type": "markdown",
   "metadata": {},
   "source": [
    "In this Lab you will learn how to explore catalogs to define a sample that can be observed on a given night. This is an easy one - you just need to try to understand how things work. There are no specific questions for you to answer (so you don't need to submit this one)."
   ]
  },
  {
   "cell_type": "markdown",
   "metadata": {},
   "source": [
    "## Using DATALAB"
   ]
  },
  {
   "cell_type": "markdown",
   "metadata": {},
   "source": [
    "We have been focusing on statistics, so we are going to take a break - even though there is plenty more to discuss - and do some astronomy. We will begin to use the DATALAB environment at NOIRLab to make finder charts of our targets. Finder charts are helpful in confirming that you are observing the correct source.\n",
    "\n",
    "\n"
   ]
  },
  {
   "cell_type": "markdown",
   "metadata": {},
   "source": [
    "## Selecting a sample of galaxies"
   ]
  },
  {
   "cell_type": "markdown",
   "metadata": {},
   "source": [
    "Planning for any observing program starts with the selection of targets. Of course, this is influenced by the scientific questions one is asking - but for our purpose we are going to skip the motivation and just get to the target selection. In this case our targets are going to be galaxies that satisfy a set of criteris that we will specify.\n",
    "\n",
    "Before we start, lets import the packages you will be needing for this Lab.\n"
   ]
  },
  {
   "cell_type": "code",
   "execution_count": 1,
   "metadata": {
    "execution": {
     "iopub.execute_input": "2024-01-25T22:17:04.307916Z",
     "iopub.status.busy": "2024-01-25T22:17:04.307485Z",
     "iopub.status.idle": "2024-01-25T22:17:40.807650Z",
     "shell.execute_reply": "2024-01-25T22:17:40.806791Z",
     "shell.execute_reply.started": "2024-01-25T22:17:04.307883Z"
    },
    "tags": []
   },
   "outputs": [
    {
     "name": "stdout",
     "output_type": "stream",
     "text": [
      "Defaulting to user installation because normal site-packages is not writeable\n",
      "Requirement already satisfied: pip in /home/jail/dlusers/dzaritsky/.local/lib/python3.8/site-packages (23.3.2)\n",
      "\u001b[33mDEPRECATION: pyodbc 4.0.0-unsupported has a non-standard version number. pip 24.0 will enforce this behaviour change. A possible replacement is to upgrade to a newer version of pyodbc or contact the author to suggest that they release a version with a conforming version number. Discussion can be found at https://github.com/pypa/pip/issues/12063\u001b[0m\u001b[33m\n",
      "\u001b[0mDefaulting to user installation because normal site-packages is not writeable\n",
      "Requirement already satisfied: astroplan in /data0/sw.tmpfs/anaconda3/lib/python3.8/site-packages (0.8)\n",
      "Requirement already satisfied: numpy>=1.17 in /data0/sw.tmpfs/anaconda3/lib/python3.8/site-packages (from astroplan) (1.22.1)\n",
      "Requirement already satisfied: astropy>=4 in /data0/sw.tmpfs/anaconda3/lib/python3.8/site-packages (from astroplan) (5.2.2)\n",
      "Requirement already satisfied: pytz in /data0/sw.tmpfs/anaconda3/lib/python3.8/site-packages (from astroplan) (2021.1)\n",
      "Requirement already satisfied: six in /data0/sw.tmpfs/anaconda3/lib/python3.8/site-packages (from astroplan) (1.15.0)\n",
      "Requirement already satisfied: pyerfa>=2.0 in /data0/sw.tmpfs/anaconda3/lib/python3.8/site-packages (from astropy>=4->astroplan) (2.0.0.3)\n",
      "Requirement already satisfied: PyYAML>=3.13 in /data0/sw.tmpfs/anaconda3/lib/python3.8/site-packages (from astropy>=4->astroplan) (5.4.1)\n",
      "Requirement already satisfied: packaging>=19.0 in /data0/sw.tmpfs/anaconda3/lib/python3.8/site-packages (from astropy>=4->astroplan) (23.0)\n",
      "\u001b[33mDEPRECATION: pyodbc 4.0.0-unsupported has a non-standard version number. pip 24.0 will enforce this behaviour change. A possible replacement is to upgrade to a newer version of pyodbc or contact the author to suggest that they release a version with a conforming version number. Discussion can be found at https://github.com/pypa/pip/issues/12063\u001b[0m\u001b[33m\n",
      "\u001b[0mDefaulting to user installation because normal site-packages is not writeable\n",
      "Requirement already satisfied: pytest-astropy in /home/jail/dlusers/dzaritsky/.local/lib/python3.8/site-packages (0.11.0)\n",
      "Requirement already satisfied: pytest>=4.6 in /data0/sw.tmpfs/anaconda3/lib/python3.8/site-packages (from pytest-astropy) (6.2.3)\n",
      "Requirement already satisfied: pytest-doctestplus>=1.0.0 in /home/jail/dlusers/dzaritsky/.local/lib/python3.8/site-packages (from pytest-astropy) (1.1.0)\n",
      "Requirement already satisfied: pytest-remotedata>=0.4.1 in /home/jail/dlusers/dzaritsky/.local/lib/python3.8/site-packages (from pytest-astropy) (0.4.1)\n",
      "Requirement already satisfied: pytest-astropy-header>=0.2.2 in /home/jail/dlusers/dzaritsky/.local/lib/python3.8/site-packages (from pytest-astropy) (0.2.2)\n",
      "Requirement already satisfied: pytest-arraydiff>=0.5 in /home/jail/dlusers/dzaritsky/.local/lib/python3.8/site-packages (from pytest-astropy) (0.5.0)\n",
      "Requirement already satisfied: pytest-filter-subpackage>=0.1.2 in /home/jail/dlusers/dzaritsky/.local/lib/python3.8/site-packages (from pytest-astropy) (0.1.2)\n",
      "Requirement already satisfied: pytest-cov>=2.3.1 in /home/jail/dlusers/dzaritsky/.local/lib/python3.8/site-packages (from pytest-astropy) (3.0.0)\n",
      "Requirement already satisfied: pytest-mock>=2.0 in /home/jail/dlusers/dzaritsky/.local/lib/python3.8/site-packages (from pytest-astropy) (3.8.2)\n",
      "Requirement already satisfied: attrs>=19.2.0 in /data0/sw.tmpfs/anaconda3/lib/python3.8/site-packages (from pytest-astropy) (20.3.0)\n",
      "Requirement already satisfied: hypothesis>=5.1 in /home/jail/dlusers/dzaritsky/.local/lib/python3.8/site-packages (from pytest-astropy) (6.50.1)\n",
      "Requirement already satisfied: sortedcontainers<3.0.0,>=2.1.0 in /data0/sw.tmpfs/anaconda3/lib/python3.8/site-packages (from hypothesis>=5.1->pytest-astropy) (2.3.0)\n",
      "Requirement already satisfied: exceptiongroup>=1.0.0rc8 in /home/jail/dlusers/dzaritsky/.local/lib/python3.8/site-packages (from hypothesis>=5.1->pytest-astropy) (1.0.0rc8)\n",
      "Requirement already satisfied: iniconfig in /data0/sw.tmpfs/anaconda3/lib/python3.8/site-packages (from pytest>=4.6->pytest-astropy) (1.1.1)\n",
      "Requirement already satisfied: packaging in /data0/sw.tmpfs/anaconda3/lib/python3.8/site-packages (from pytest>=4.6->pytest-astropy) (23.0)\n",
      "Requirement already satisfied: pluggy<1.0.0a1,>=0.12 in /data0/sw.tmpfs/anaconda3/lib/python3.8/site-packages (from pytest>=4.6->pytest-astropy) (0.13.1)\n",
      "Requirement already satisfied: py>=1.8.2 in /data0/sw.tmpfs/anaconda3/lib/python3.8/site-packages (from pytest>=4.6->pytest-astropy) (1.10.0)\n",
      "Requirement already satisfied: toml in /data0/sw.tmpfs/anaconda3/lib/python3.8/site-packages (from pytest>=4.6->pytest-astropy) (0.10.2)\n",
      "Requirement already satisfied: numpy in /data0/sw.tmpfs/anaconda3/lib/python3.8/site-packages (from pytest-arraydiff>=0.5->pytest-astropy) (1.22.1)\n",
      "Requirement already satisfied: coverage>=5.2.1 in /home/jail/dlusers/dzaritsky/.local/lib/python3.8/site-packages (from coverage[toml]>=5.2.1->pytest-cov>=2.3.1->pytest-astropy) (6.4.1)\n",
      "Requirement already satisfied: setuptools>=30.3.0 in /data0/sw.tmpfs/anaconda3/lib/python3.8/site-packages (from pytest-doctestplus>=1.0.0->pytest-astropy) (52.0.0.post20210125)\n",
      "Requirement already satisfied: tomli in /data0/sw.tmpfs/anaconda3/lib/python3.8/site-packages (from coverage[toml]>=5.2.1->pytest-cov>=2.3.1->pytest-astropy) (2.0.1)\n",
      "\u001b[33mDEPRECATION: pyodbc 4.0.0-unsupported has a non-standard version number. pip 24.0 will enforce this behaviour change. A possible replacement is to upgrade to a newer version of pyodbc or contact the author to suggest that they release a version with a conforming version number. Discussion can be found at https://github.com/pypa/pip/issues/12063\u001b[0m\u001b[33m\n",
      "\u001b[0mDefaulting to user installation because normal site-packages is not writeable\n",
      "Requirement already satisfied: pytz in /data0/sw.tmpfs/anaconda3/lib/python3.8/site-packages (2021.1)\n",
      "\u001b[33mDEPRECATION: pyodbc 4.0.0-unsupported has a non-standard version number. pip 24.0 will enforce this behaviour change. A possible replacement is to upgrade to a newer version of pyodbc or contact the author to suggest that they release a version with a conforming version number. Discussion can be found at https://github.com/pypa/pip/issues/12063\u001b[0m\u001b[33m\n",
      "\u001b[0mDefaulting to user installation because normal site-packages is not writeable\n",
      "Requirement already satisfied: jinja2 in /home/jail/dlusers/dzaritsky/.local/lib/python3.8/site-packages (3.0.3)\n",
      "Requirement already satisfied: MarkupSafe>=2.0 in /data0/sw.tmpfs/anaconda3/lib/python3.8/site-packages (from jinja2) (2.1.2)\n",
      "\u001b[33mDEPRECATION: pyodbc 4.0.0-unsupported has a non-standard version number. pip 24.0 will enforce this behaviour change. A possible replacement is to upgrade to a newer version of pyodbc or contact the author to suggest that they release a version with a conforming version number. Discussion can be found at https://github.com/pypa/pip/issues/12063\u001b[0m\u001b[33m\n",
      "\u001b[0mDefaulting to user installation because normal site-packages is not writeable\n",
      "Requirement already satisfied: dustmaps in /home/jail/dlusers/dzaritsky/.local/lib/python3.8/site-packages (1.0.10)\n",
      "Requirement already satisfied: numpy in /data0/sw.tmpfs/anaconda3/lib/python3.8/site-packages (from dustmaps) (1.22.1)\n",
      "Requirement already satisfied: scipy in /data0/sw.tmpfs/anaconda3/lib/python3.8/site-packages (from dustmaps) (1.7.3)\n",
      "Requirement already satisfied: astropy in /data0/sw.tmpfs/anaconda3/lib/python3.8/site-packages (from dustmaps) (5.2.2)\n",
      "Requirement already satisfied: h5py in /home/jail/dlusers/dzaritsky/.local/lib/python3.8/site-packages (from dustmaps) (3.9.0)\n",
      "Requirement already satisfied: healpy in /data0/sw.tmpfs/anaconda3/lib/python3.8/site-packages (from dustmaps) (1.16.1)\n",
      "Requirement already satisfied: requests in /data0/sw.tmpfs/anaconda3/lib/python3.8/site-packages (from dustmaps) (2.26.0)\n",
      "Requirement already satisfied: progressbar2 in /home/jail/dlusers/dzaritsky/.local/lib/python3.8/site-packages (from dustmaps) (4.2.0)\n",
      "Requirement already satisfied: six in /data0/sw.tmpfs/anaconda3/lib/python3.8/site-packages (from dustmaps) (1.15.0)\n",
      "Requirement already satisfied: pyerfa>=2.0 in /data0/sw.tmpfs/anaconda3/lib/python3.8/site-packages (from astropy->dustmaps) (2.0.0.3)\n",
      "Requirement already satisfied: PyYAML>=3.13 in /data0/sw.tmpfs/anaconda3/lib/python3.8/site-packages (from astropy->dustmaps) (5.4.1)\n",
      "Requirement already satisfied: packaging>=19.0 in /data0/sw.tmpfs/anaconda3/lib/python3.8/site-packages (from astropy->dustmaps) (23.0)\n",
      "Requirement already satisfied: matplotlib in /data0/sw.tmpfs/anaconda3/lib/python3.8/site-packages (from healpy->dustmaps) (3.7.1)\n",
      "Requirement already satisfied: python-utils>=3.0.0 in /home/jail/dlusers/dzaritsky/.local/lib/python3.8/site-packages (from progressbar2->dustmaps) (3.4.5)\n",
      "Requirement already satisfied: urllib3<1.27,>=1.21.1 in /data0/sw.tmpfs/anaconda3/lib/python3.8/site-packages (from requests->dustmaps) (1.26.4)\n",
      "Requirement already satisfied: certifi>=2017.4.17 in /data0/sw.tmpfs/anaconda3/lib/python3.8/site-packages (from requests->dustmaps) (2020.12.5)\n",
      "Requirement already satisfied: charset-normalizer~=2.0.0 in /data0/sw.tmpfs/anaconda3/lib/python3.8/site-packages (from requests->dustmaps) (2.0.12)\n",
      "Requirement already satisfied: idna<4,>=2.5 in /data0/sw.tmpfs/anaconda3/lib/python3.8/site-packages (from requests->dustmaps) (2.10)\n",
      "Requirement already satisfied: contourpy>=1.0.1 in /data0/sw.tmpfs/anaconda3/lib/python3.8/site-packages (from matplotlib->healpy->dustmaps) (1.0.7)\n",
      "Requirement already satisfied: cycler>=0.10 in /data0/sw.tmpfs/anaconda3/lib/python3.8/site-packages (from matplotlib->healpy->dustmaps) (0.10.0)\n",
      "Requirement already satisfied: fonttools>=4.22.0 in /data0/sw.tmpfs/anaconda3/lib/python3.8/site-packages (from matplotlib->healpy->dustmaps) (4.39.3)\n",
      "Requirement already satisfied: kiwisolver>=1.0.1 in /data0/sw.tmpfs/anaconda3/lib/python3.8/site-packages (from matplotlib->healpy->dustmaps) (1.3.1)\n",
      "Requirement already satisfied: pillow>=6.2.0 in /data0/sw.tmpfs/anaconda3/lib/python3.8/site-packages (from matplotlib->healpy->dustmaps) (8.2.0)\n",
      "Requirement already satisfied: pyparsing>=2.3.1 in /data0/sw.tmpfs/anaconda3/lib/python3.8/site-packages (from matplotlib->healpy->dustmaps) (2.4.7)\n",
      "Requirement already satisfied: python-dateutil>=2.7 in /data0/sw.tmpfs/anaconda3/lib/python3.8/site-packages (from matplotlib->healpy->dustmaps) (2.8.2)\n",
      "Requirement already satisfied: importlib-resources>=3.2.0 in /data0/sw.tmpfs/anaconda3/lib/python3.8/site-packages (from matplotlib->healpy->dustmaps) (5.12.0)\n",
      "Requirement already satisfied: zipp>=3.1.0 in /data0/sw.tmpfs/anaconda3/lib/python3.8/site-packages (from importlib-resources>=3.2.0->matplotlib->healpy->dustmaps) (3.4.1)\n",
      "\u001b[33mDEPRECATION: pyodbc 4.0.0-unsupported has a non-standard version number. pip 24.0 will enforce this behaviour change. A possible replacement is to upgrade to a newer version of pyodbc or contact the author to suggest that they release a version with a conforming version number. Discussion can be found at https://github.com/pypa/pip/issues/12063\u001b[0m\u001b[33m\n",
      "\u001b[0mDefaulting to user installation because normal site-packages is not writeable\n",
      "Requirement already satisfied: ctapipe in /home/jail/dlusers/dzaritsky/.local/lib/python3.8/site-packages (0.17.0)\n",
      "Requirement already satisfied: astropy~=5.0 in /data0/sw.tmpfs/anaconda3/lib/python3.8/site-packages (from ctapipe) (5.2.2)\n",
      "Requirement already satisfied: bokeh~=2.0 in /data0/sw.tmpfs/anaconda3/lib/python3.8/site-packages (from ctapipe) (2.3.2)\n",
      "Requirement already satisfied: eventio<2.0.0a0,>=1.9.1 in /home/jail/dlusers/dzaritsky/.local/lib/python3.8/site-packages (from ctapipe) (1.11.0)\n",
      "Requirement already satisfied: h5py in /home/jail/dlusers/dzaritsky/.local/lib/python3.8/site-packages (from ctapipe) (3.9.0)\n",
      "Requirement already satisfied: iminuit>=2 in /home/jail/dlusers/dzaritsky/.local/lib/python3.8/site-packages (from ctapipe) (2.18.0)\n",
      "Requirement already satisfied: joblib in /home/jail/dlusers/dzaritsky/.local/lib/python3.8/site-packages (from ctapipe) (1.3.2)\n",
      "Requirement already satisfied: matplotlib~=3.0 in /data0/sw.tmpfs/anaconda3/lib/python3.8/site-packages (from ctapipe) (3.7.1)\n",
      "Requirement already satisfied: numba>=0.43 in /data0/sw.tmpfs/anaconda3/lib/python3.8/site-packages (from ctapipe) (0.53.1)\n",
      "Requirement already satisfied: numpy~=1.16 in /data0/sw.tmpfs/anaconda3/lib/python3.8/site-packages (from ctapipe) (1.22.1)\n",
      "Requirement already satisfied: psutil in /data0/sw.tmpfs/anaconda3/lib/python3.8/site-packages (from ctapipe) (5.8.0)\n",
      "Requirement already satisfied: scikit-learn in /home/jail/dlusers/dzaritsky/.local/lib/python3.8/site-packages (from ctapipe) (1.3.0)\n",
      "Requirement already satisfied: scipy~=1.2 in /data0/sw.tmpfs/anaconda3/lib/python3.8/site-packages (from ctapipe) (1.7.3)\n",
      "Requirement already satisfied: tables~=3.4 in /data0/sw.tmpfs/anaconda3/lib/python3.8/site-packages (from ctapipe) (3.6.1)\n",
      "Requirement already satisfied: tqdm>=4.32 in /data0/sw.tmpfs/anaconda3/lib/python3.8/site-packages (from ctapipe) (4.59.0)\n",
      "Requirement already satisfied: traitlets>=5.0.5,~=5.0 in /data0/sw.tmpfs/anaconda3/lib/python3.8/site-packages (from ctapipe) (5.9.0)\n",
      "Requirement already satisfied: zstandard in /home/jail/dlusers/dzaritsky/.local/lib/python3.8/site-packages (from ctapipe) (0.19.0)\n",
      "Requirement already satisfied: requests in /data0/sw.tmpfs/anaconda3/lib/python3.8/site-packages (from ctapipe) (2.26.0)\n",
      "Requirement already satisfied: setuptools-scm>=3.4 in /home/jail/dlusers/dzaritsky/.local/lib/python3.8/site-packages (from ctapipe) (7.1.0)\n",
      "Requirement already satisfied: jinja2~=3.0.2 in /home/jail/dlusers/dzaritsky/.local/lib/python3.8/site-packages (from ctapipe) (3.0.3)\n",
      "Requirement already satisfied: pyyaml>=5.1 in /data0/sw.tmpfs/anaconda3/lib/python3.8/site-packages (from ctapipe) (5.4.1)\n",
      "Requirement already satisfied: docutils in /data0/sw.tmpfs/anaconda3/lib/python3.8/site-packages (from ctapipe) (0.17.1)\n",
      "Requirement already satisfied: importlib-resources in /data0/sw.tmpfs/anaconda3/lib/python3.8/site-packages (from ctapipe) (5.12.0)\n",
      "Requirement already satisfied: pyerfa>=2.0 in /data0/sw.tmpfs/anaconda3/lib/python3.8/site-packages (from astropy~=5.0->ctapipe) (2.0.0.3)\n",
      "Requirement already satisfied: packaging>=19.0 in /data0/sw.tmpfs/anaconda3/lib/python3.8/site-packages (from astropy~=5.0->ctapipe) (23.0)\n",
      "Requirement already satisfied: python-dateutil>=2.1 in /data0/sw.tmpfs/anaconda3/lib/python3.8/site-packages (from bokeh~=2.0->ctapipe) (2.8.2)\n",
      "Requirement already satisfied: pillow>=7.1.0 in /data0/sw.tmpfs/anaconda3/lib/python3.8/site-packages (from bokeh~=2.0->ctapipe) (8.2.0)\n",
      "Requirement already satisfied: tornado>=5.1 in /data0/sw.tmpfs/anaconda3/lib/python3.8/site-packages (from bokeh~=2.0->ctapipe) (6.1)\n",
      "Requirement already satisfied: typing-extensions>=3.7.4 in /data0/sw.tmpfs/anaconda3/lib/python3.8/site-packages (from bokeh~=2.0->ctapipe) (4.5.0)\n",
      "Requirement already satisfied: corsikaio~=0.2.0 in /home/jail/dlusers/dzaritsky/.local/lib/python3.8/site-packages (from eventio<2.0.0a0,>=1.9.1->ctapipe) (0.2.6.post1)\n",
      "Requirement already satisfied: MarkupSafe>=2.0 in /data0/sw.tmpfs/anaconda3/lib/python3.8/site-packages (from jinja2~=3.0.2->ctapipe) (2.1.2)\n",
      "Requirement already satisfied: contourpy>=1.0.1 in /data0/sw.tmpfs/anaconda3/lib/python3.8/site-packages (from matplotlib~=3.0->ctapipe) (1.0.7)\n",
      "Requirement already satisfied: cycler>=0.10 in /data0/sw.tmpfs/anaconda3/lib/python3.8/site-packages (from matplotlib~=3.0->ctapipe) (0.10.0)\n",
      "Requirement already satisfied: fonttools>=4.22.0 in /data0/sw.tmpfs/anaconda3/lib/python3.8/site-packages (from matplotlib~=3.0->ctapipe) (4.39.3)\n",
      "Requirement already satisfied: kiwisolver>=1.0.1 in /data0/sw.tmpfs/anaconda3/lib/python3.8/site-packages (from matplotlib~=3.0->ctapipe) (1.3.1)\n",
      "Requirement already satisfied: pyparsing>=2.3.1 in /data0/sw.tmpfs/anaconda3/lib/python3.8/site-packages (from matplotlib~=3.0->ctapipe) (2.4.7)\n",
      "Requirement already satisfied: zipp>=3.1.0 in /data0/sw.tmpfs/anaconda3/lib/python3.8/site-packages (from importlib-resources->ctapipe) (3.4.1)\n",
      "Requirement already satisfied: llvmlite<0.37,>=0.36.0rc1 in /data0/sw.tmpfs/anaconda3/lib/python3.8/site-packages (from numba>=0.43->ctapipe) (0.36.0)\n",
      "Requirement already satisfied: setuptools in /data0/sw.tmpfs/anaconda3/lib/python3.8/site-packages (from numba>=0.43->ctapipe) (52.0.0.post20210125)\n",
      "Requirement already satisfied: tomli>=1.0.0 in /data0/sw.tmpfs/anaconda3/lib/python3.8/site-packages (from setuptools-scm>=3.4->ctapipe) (2.0.1)\n",
      "Requirement already satisfied: numexpr>=2.6.2 in /data0/sw.tmpfs/anaconda3/lib/python3.8/site-packages (from tables~=3.4->ctapipe) (2.7.3)\n",
      "Requirement already satisfied: urllib3<1.27,>=1.21.1 in /data0/sw.tmpfs/anaconda3/lib/python3.8/site-packages (from requests->ctapipe) (1.26.4)\n",
      "Requirement already satisfied: certifi>=2017.4.17 in /data0/sw.tmpfs/anaconda3/lib/python3.8/site-packages (from requests->ctapipe) (2020.12.5)\n",
      "Requirement already satisfied: charset-normalizer~=2.0.0 in /data0/sw.tmpfs/anaconda3/lib/python3.8/site-packages (from requests->ctapipe) (2.0.12)\n",
      "Requirement already satisfied: idna<4,>=2.5 in /data0/sw.tmpfs/anaconda3/lib/python3.8/site-packages (from requests->ctapipe) (2.10)\n",
      "Requirement already satisfied: threadpoolctl>=2.0.0 in /data0/sw.tmpfs/anaconda3/lib/python3.8/site-packages (from scikit-learn->ctapipe) (2.1.0)\n",
      "Requirement already satisfied: six in /data0/sw.tmpfs/anaconda3/lib/python3.8/site-packages (from cycler>=0.10->matplotlib~=3.0->ctapipe) (1.15.0)\n",
      "\u001b[33mDEPRECATION: pyodbc 4.0.0-unsupported has a non-standard version number. pip 24.0 will enforce this behaviour change. A possible replacement is to upgrade to a newer version of pyodbc or contact the author to suggest that they release a version with a conforming version number. Discussion can be found at https://github.com/pypa/pip/issues/12063\u001b[0m\u001b[33m\n",
      "\u001b[0mDownloading SFD data file to /home/jail/dlusers/dzaritsky/bender/sfd/SFD_dust_4096_ngp.fits\n",
      "Checking existing file to see if MD5 sum matches ...\n",
      "File exists. Not overwriting.\n",
      "Downloading SFD data file to /home/jail/dlusers/dzaritsky/bender/sfd/SFD_dust_4096_sgp.fits\n",
      "Checking existing file to see if MD5 sum matches ...\n",
      "File exists. Not overwriting.\n"
     ]
    }
   ],
   "source": [
    "import matplotlib.pyplot as plt\n",
    "import numpy as np\n",
    "from scipy import stats\n",
    "from scipy.optimize import curve_fit\n",
    "from astropy.io import fits\n",
    "from astropy.table import Table\n",
    "import astropy.units as u\n",
    "from astropy.coordinates import SkyCoord\n",
    "\n",
    "import requests\n",
    "import pandas as pd\n",
    "from PIL import Image, ImageDraw, ImageFilter\n",
    "import time\n",
    "import os\n",
    "\n",
    "!pip install --upgrade pip\n",
    "!pip install astroplan\n",
    "!pip install pytest-astropy --upgrade\n",
    "!pip install pytz\n",
    "!pip install jinja2\n",
    "!pip install dustmaps\n",
    "!pip install ctapipe\n",
    "\n",
    "from dustmaps.sfd import SFDQuery\n",
    "from dustmaps.config import config\n",
    "config['data_dir'] = '.'\n",
    "import dustmaps.sfd\n",
    "dustmaps.sfd.fetch()\n",
    "    \n",
    "from ctapipe.utils import get_bright_stars\n",
    "\n",
    "from astroplan import Observer, FixedTarget\n",
    "from astropy.time import Time\n",
    "from astroplan.plots import plot_airmass\n",
    "\n",
    "from astroplan import observability_table\n",
    "from astroplan import (AltitudeConstraint, AirmassConstraint, AtNightConstraint)\n"
   ]
  },
  {
   "cell_type": "markdown",
   "metadata": {},
   "source": [
    "Now, we going to start with a catalog of large (as seen on the sky) galaxies taken from images obtained for the Sloan and Legacy Survey. The catalog is called the Siena Galaxy Catalog (2020) or SGA-2020.fits. The code below shows how to handle the fits catalog, but it is very large and so I've made a small csv version for us to work with (SGA_2020_light.csv). Go ahead and download it and put it in your DATALAB directory. We will then load it in and convert to a Pandas dataframe."
   ]
  },
  {
   "cell_type": "code",
   "execution_count": 2,
   "metadata": {
    "execution": {
     "iopub.execute_input": "2024-01-25T22:17:40.809232Z",
     "iopub.status.busy": "2024-01-25T22:17:40.808794Z",
     "iopub.status.idle": "2024-01-25T22:17:41.418759Z",
     "shell.execute_reply": "2024-01-25T22:17:41.417918Z",
     "shell.execute_reply.started": "2024-01-25T22:17:40.809202Z"
    },
    "tags": []
   },
   "outputs": [],
   "source": [
    "# this is how you would deal with the full fits catalog\n",
    "# siena_2020 galaxy catalog (download from website SGA-2020.fits) - need to change path to your version\n",
    "# hdul = fits.open('SGA-2020.fits',memmap=True)\n",
    "# galaxy_data = Table(hdul[1].data)\n",
    "# hdul.close()\n",
    "\n",
    "# instead we are doing this...\n",
    "galaxy_data = pd.read_csv('SGA_2020_light.csv')"
   ]
  },
  {
   "cell_type": "code",
   "execution_count": 3,
   "metadata": {
    "execution": {
     "iopub.execute_input": "2024-01-25T22:17:41.420323Z",
     "iopub.status.busy": "2024-01-25T22:17:41.419999Z",
     "iopub.status.idle": "2024-01-25T22:17:41.432384Z",
     "shell.execute_reply": "2024-01-25T22:17:41.431550Z",
     "shell.execute_reply.started": "2024-01-25T22:17:41.420294Z"
    },
    "tags": []
   },
   "outputs": [
    {
     "name": "stdout",
     "output_type": "stream",
     "text": [
      "There are 383620 targets in ATLAS\n",
      "138 satisfy RA/Dec, size, b/a, and redshift criteria\n"
     ]
    }
   ],
   "source": [
    "# here we set the parameters of interest\n",
    "print('There are',len(galaxy_data),'targets in ATLAS')    \n",
    "\n",
    "# parameter cuts for galaxy sample\n",
    "\n",
    "lower_dec = 20        # lower limit declination\n",
    "lower_diam = 4        # lower limit diameter size (arcmin)\n",
    "upper_diam = 8        # upper limit diameter size (arcmin)\n",
    "BA_max = 0.8          # upper limit on B/A (avoid face-on galaxies)\n",
    "bright_star_rad = 1   # search radius for bright stars (degrees)\n",
    "max_ebv = 0.04        # maximum allowed value of E(B-V) to limit Galactic extinction\n",
    "max_redshift = 0.005  # z, limit corresponds to ~ 21 Mpc to focus on nearby galaxies\n",
    "\n",
    "#select all galaxies in correct coordinate range, size range, and inclination\n",
    "galaxy_targets = galaxy_data[(galaxy_data['DEC'] > lower_dec) & (galaxy_data['D26'] > lower_diam) & (galaxy_data['D26'] < upper_diam) & (galaxy_data['BA'] < BA_max) & (galaxy_data['Z_LEDA']<max_redshift)]\n",
    "print(len(galaxy_targets),'satisfy RA/Dec, size, b/a, and redshift criteria')"
   ]
  },
  {
   "cell_type": "markdown",
   "metadata": {},
   "source": [
    "Now we move on to estimating the Galactic extinction at the location of each galaxy. For this we using the Schlegel, Finkbeiner and Davis (sfd) maps that are available as part of the SFDQuery call - don't you just love that there is all this infrastructure already available!"
   ]
  },
  {
   "cell_type": "code",
   "execution_count": 4,
   "metadata": {
    "execution": {
     "iopub.execute_input": "2024-01-25T22:17:41.433772Z",
     "iopub.status.busy": "2024-01-25T22:17:41.433353Z",
     "iopub.status.idle": "2024-01-25T22:17:41.633696Z",
     "shell.execute_reply": "2024-01-25T22:17:41.632888Z",
     "shell.execute_reply.started": "2024-01-25T22:17:41.433743Z"
    },
    "tags": []
   },
   "outputs": [
    {
     "name": "stdout",
     "output_type": "stream",
     "text": [
      "Of those 115 satisfy dust criterion\n"
     ]
    },
    {
     "name": "stderr",
     "output_type": "stream",
     "text": [
      "<ipython-input-4-3201b5b098ca>:5: SettingWithCopyWarning: \n",
      "A value is trying to be set on a copy of a slice from a DataFrame.\n",
      "Try using .loc[row_indexer,col_indexer] = value instead\n",
      "\n",
      "See the caveats in the documentation: https://pandas.pydata.org/pandas-docs/stable/user_guide/indexing.html#returning-a-view-versus-a-copy\n",
      "  galaxy_targets['ebv'] = sfd(coords)\n"
     ]
    }
   ],
   "source": [
    "# get extinction at each location  (see https://dustmaps.readthedocs.io/en/latest/maps.html for range of options)\n",
    "\n",
    "coords = SkyCoord(galaxy_targets['RA']*u.deg, galaxy_targets['DEC']*u.deg, frame='icrs')\n",
    "sfd = SFDQuery()\n",
    "galaxy_targets['ebv'] = sfd(coords)\n",
    "\n",
    "#apply selection criteria\n",
    "galaxy_targets = galaxy_targets[(galaxy_targets['ebv'] < max_ebv)]\n",
    "\n",
    "print('Of those',len(galaxy_targets),'satisfy dust criterion')"
   ]
  },
  {
   "cell_type": "markdown",
   "metadata": {},
   "source": [
    "Finally, we are going to search for nearby bright stars that could cause us problems in our observations."
   ]
  },
  {
   "cell_type": "code",
   "execution_count": null,
   "metadata": {
    "tags": []
   },
   "outputs": [],
   "source": [
    "# get brights stars at each remaining location and flag those with bright stars\n",
    "# code will automatically download Yale Bright Star Catalog if you don't already have it\n",
    "\n",
    "bright_flag=[]\n",
    "\n",
    "for j in range(0,len(galaxy_targets)):\n",
    "    br_stars = get_bright_stars(coords[j],bright_star_rad*u.deg)\n",
    "    \n",
    "    if (len(br_stars)>0):\n",
    "        bright_flag = np.append(bright_flag,1)\n",
    "    else:\n",
    "        bright_flag = np.append(bright_flag,0)\n",
    "\n",
    "galaxy_targets_new = galaxy_targets[(bright_flag<1)]\n",
    "galaxy_targets_new.reset_index(inplace = True)\n",
    "\n",
    "print(' ')\n",
    "print('Of those',len(galaxy_targets_new),'do not have a Yale Bright Star Catalog star within',bright_star_rad,'degree(s)')\n",
    "\n",
    "# now we will just write to a text file the targets that satisfy the criteria\n",
    "target_file = open('galaxy_targets.txt', 'w')\n",
    "\n",
    "for j in range(0,len(galaxy_targets_new)):\n",
    "    print(galaxy_targets_new['GALAXY'][j] , galaxy_targets_new['RA'][j], galaxy_targets_new['DEC'][j])\n",
    "\n",
    "#    print(\"%9s %10.6f %10.6f\" % (galaxy_targets_new['GALAXY'][j], galaxy_targets_new['RA'][j], galaxy_targets_new['DEC'][j]), file = target_file)\n",
    "\n",
    "target_file.close()\n"
   ]
  },
  {
   "cell_type": "markdown",
   "metadata": {},
   "source": [
    "From this sample of galaxies we now want to choose the ones that will be accessible for some fraction of the time on nights in September 2023 (at night after astronomical twilight) at the Large Binocular Telescope (LBT) at an arimass < 1.4."
   ]
  },
  {
   "cell_type": "code",
   "execution_count": null,
   "metadata": {
    "tags": []
   },
   "outputs": [],
   "source": [
    "# sets constraints (airmass limit 1.4 and at night).\n",
    "constraints = [AirmassConstraint(1.4), AtNightConstraint.twilight_nautical()]\n",
    "\n",
    "# range of dates to span\n",
    "time_range = Time([\"2023-09-01 00:00\", \"2023-10-01 00:00\"])\n",
    "\n",
    "# parameters of observatory\n",
    "lbt = Observer.at_site('lbt')\n",
    "\n",
    "target_coords = SkyCoord(galaxy_targets_new['RA']*u.deg, galaxy_targets_new['DEC']*u.deg, frame='icrs')\n",
    "\n",
    "\n",
    "table = observability_table(constraints, lbt, target_coords, time_range=time_range)\n",
    "\n",
    "print('Galaxy and fraction of time satisfying constraints:')\n",
    "\n",
    "# require observation fraction to be at least 0.1\n",
    "for i in range(0,len(table)):\n",
    "    if (table[i][3]>0.10):\n",
    "        print(galaxy_targets_new[\"GALAXY\"][i], table[i][3])\n"
   ]
  },
  {
   "cell_type": "code",
   "execution_count": null,
   "metadata": {
    "tags": []
   },
   "outputs": [],
   "source": [
    "# view the set of galaxies\n",
    "\n",
    "# subroutine to make the image mosaic\n",
    "def get_concat(data,rows,galaxy_targets_new,ct,image_number):\n",
    "    xlen = len(data)\n",
    "    w = data[0].width\n",
    "    h = data[0].height\n",
    "    dst = Image.new('RGB', (3*w + 40 , rows*h+(rows-1)*10),color='white')\n",
    "    draw = ImageDraw.Draw(dst)\n",
    "    for i in range(rows):\n",
    "        for j in range(3):\n",
    "            count = i*3 + j\n",
    "            tcount = count + ct*image_number \n",
    "            if (count < xlen):\n",
    "                dst.paste(data[count], (j*w+j*10, i*h+i*10))\n",
    "                draw.text((j*w+j*10+7,i*h+i*10+15), str(galaxy_targets_new['GALAXY'][tcount]), fill=(255,255,0))\n",
    "    return dst\n",
    "\n",
    "#filename = 'targets.jpg'\n",
    "\n",
    "#try:\n",
    "#    os.remove(filename)\n",
    "#except OSError:\n",
    "#    pass\n",
    "\n",
    "# maximum images per mosaic\n",
    "image_number = 100\n",
    "\n",
    "jlen = 0\n",
    "x_data = []\n",
    "\n",
    "xlen = len(galaxy_targets_new)\n",
    "\n",
    "count = 0\n",
    "flag = 0\n",
    "\n",
    "for i in range(xlen):\n",
    "\n",
    "    if(table[i][3]>0.1):\n",
    "    \n",
    "        jlen += 1\n",
    "        try:\n",
    "            os.remove('trash.png')\n",
    "        except:\n",
    "            pass\n",
    "        file = open(\"trash.png\", \"wb+\")\n",
    "# this sets the link to get the postage stamp image\n",
    "        link = 'http://legacysurvey.org/viewer/jpeg-cutout/?ra=' + str(galaxy_targets_new['RA'][i]) + '&dec=' + str(galaxy_targets_new['DEC'][i]) +'&layer=dr8&pixscale=5&bands=grz'\n",
    "# gets the image\n",
    "        r = requests.get(link)\n",
    "        if (len(r.content) < 10000):\n",
    "            r = requests.get(link)\n",
    "        file.write(r.content)\n",
    "        file.close()\n",
    "        \n",
    "        if (jlen < image_number):\n",
    "            try:\n",
    "                x_data.append(Image.open('trash.png'))\n",
    "            except OSError:\n",
    "                print('error 1',i)\n",
    "                jlen -= 1\n",
    "        else:\n",
    "            try:\n",
    "                x_data.append(Image.open('trash.png'))\n",
    "            except OSError:\n",
    "                print('error 2')\n",
    "            jlen = 0\n",
    "            rows = int(len(x_data)/3) + 1\n",
    "            filename = 'targets' + str(count) + '.jpg'\n",
    "            print(filename)\n",
    "            try:\n",
    "                os.remove(filename)\n",
    "            except OSError:\n",
    "                pass\n",
    "\n",
    "            get_concat(x_data,rows,gal_targets_new,count,image_number).save(filename)\n",
    "            count += 1\n",
    "            x_data = []\n",
    "    \n",
    "\n",
    "rows = int(jlen/3) + 1\n",
    "filename = 'targets' + str(count) + '.jpg'\n",
    "print(filename)\n",
    "try:\n",
    "    os.remove(filename)\n",
    "except OSError:\n",
    "    pass\n",
    "\n",
    "get_concat(x_data,rows,galaxy_targets_new,count,image_number).save(filename)\n"
   ]
  },
  {
   "cell_type": "markdown",
   "metadata": {},
   "source": [
    "## Conclusion: "
   ]
  },
  {
   "cell_type": "markdown",
   "metadata": {},
   "source": [
    "\n",
    " You can delete SGA-2020.fits, which takes up a lot of disk space."
   ]
  }
 ],
 "metadata": {
  "kernelspec": {
   "display_name": "Python 3",
   "language": "python",
   "name": "python3"
  },
  "language_info": {
   "codemirror_mode": {
    "name": "ipython",
    "version": 3
   },
   "file_extension": ".py",
   "mimetype": "text/x-python",
   "name": "python",
   "nbconvert_exporter": "python",
   "pygments_lexer": "ipython3",
   "version": "3.8.8"
  }
 },
 "nbformat": 4,
 "nbformat_minor": 4
}
